{
 "cells": [
  {
   "cell_type": "code",
   "execution_count": 1,
   "id": "20ea1697",
   "metadata": {},
   "outputs": [],
   "source": [
    "import cv2\n",
    "import numpy as np"
   ]
  },
  {
   "cell_type": "code",
   "execution_count": 2,
   "id": "24ea34d5",
   "metadata": {},
   "outputs": [],
   "source": [
    "frameWidth = 640    #Frame Width\n",
    "franeHeight = 480   # Frame Height\n",
    "\n",
    "plateCascade = cv2.CascadeClassifier(\"haarcascade_russian_plate_number.xml\")\n",
    "minArea = 500"
   ]
  },
  {
   "cell_type": "code",
   "execution_count": 5,
   "id": "0a068e9c",
   "metadata": {
    "scrolled": false
   },
   "outputs": [],
   "source": [
    " #define a video capture object\n",
    "vid = cv2.VideoCapture(0)\n",
    "vid.set(3,frameWidth)\n",
    "vid.set(4,franeHeight)\n",
    "vid.set(10,150)\n",
    "count = 0  \n",
    "while(True):\n",
    "    success , img  = vid.read()\n",
    "\n",
    "    imgGray = cv2.cvtColor(img, cv2.COLOR_BGR2GRAY)\n",
    "\n",
    "    numberPlates = plateCascade .detectMultiScale(imgGray, 1.1, 4)\n",
    "    # Capture the video frame\n",
    "    # by frame\n",
    "    for (x, y, w, h) in numberPlates:\n",
    "        area = w*h\n",
    "        if area > minArea:\n",
    "            cv2.rectangle(img, (x, y), (x + w, y + h), (255, 0, 0), 2)\n",
    "            cv2.putText(img,\"NumberPlate\",(x,y-5),cv2.FONT_HERSHEY_COMPLEX,1,(0,0,255),2)\n",
    "            imgRoi = img[y:y+h,x:x+w]\n",
    "            cv2.imshow(\"ROI\",imgRoi)\n",
    "    ret, img = vid.read()\n",
    "   \n",
    "    cv2.imshow('frame', img)\n",
    "    \n",
    "    if cv2.waitKey(1) & 0xFF == ord('q'):\n",
    "        break\n",
    "  \n",
    "# After the loop release the cap object\n",
    "vid.release()\n",
    "# Destroy all the windows\n",
    "cv2.destroyAllWindows()"
   ]
  },
  {
   "cell_type": "code",
   "execution_count": null,
   "id": "1be1bb24",
   "metadata": {},
   "outputs": [],
   "source": []
  }
 ],
 "metadata": {
  "kernelspec": {
   "display_name": "Python 3 (ipykernel)",
   "language": "python",
   "name": "python3"
  },
  "language_info": {
   "codemirror_mode": {
    "name": "ipython",
    "version": 3
   },
   "file_extension": ".py",
   "mimetype": "text/x-python",
   "name": "python",
   "nbconvert_exporter": "python",
   "pygments_lexer": "ipython3",
   "version": "3.10.2"
  }
 },
 "nbformat": 4,
 "nbformat_minor": 5
}
